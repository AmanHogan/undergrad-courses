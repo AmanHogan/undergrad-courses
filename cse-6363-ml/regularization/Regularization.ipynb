{
 "cells": [
  {
   "cell_type": "markdown",
   "metadata": {},
   "source": [
    "# Overfitting\n",
    "Overfitting - when model does well on the *training set* but doesnt do well for unseen data, aka the *test set*.\n",
    "\n",
    "In the below picture you will see the training set perform well and level off, but the accuracy goes down for the test set and loss goes up for test set\n",
    "\n",
    "<img src=\"over-pattern.png\" alt=\"drawing\" width=\"400\"/>"
   ]
  },
  {
   "cell_type": "markdown",
   "metadata": {},
   "source": [
    "# Handling Overfitting\n",
    "\n",
    "### Bigger dataset\n",
    "Increase the amount of samples in dataset\n",
    "\n",
    "### Data augmentation\n",
    "Increasing the dataset by modifying samples using transformations:\n",
    "\n",
    "### Early stopping\n",
    "Have a threshold that stops the model at a certain epoch number.\n",
    "\n",
    "### Penalizing weights\n",
    "Add a pentalty term to the cost function that pushes the weights $w$ more towards 0"
   ]
  },
  {
   "cell_type": "markdown",
   "metadata": {},
   "source": [
    "# Regularization\n",
    "Any method intended to reduce a learngin algorithm's generalization error but not its training error\n",
    "\n",
    "### Types of Regularization\n",
    "- Ridge (L2) Regularization\n",
    "- Lasso (L1) Regularization\n",
    "\n",
    "## LASSO\n",
    "-  Adds penanlty term $\\lambda|| w || $\n",
    "- $J(w) = \\frac{1}{2m} \\sum_{i=1}^{m} (h(x^{(i)}) - y^{(i)})^2 + \\lambda|| w ||$\n",
    "- What this does is that when there are irrelevant input features, it makes their weights 0\n",
    "\n",
    "## Ridge\n",
    "-  Adds penanlty term $\\frac{\\lambda}{2} ||w||^{2} $\n",
    "- $J(w) = \\frac{1}{2m} \\sum_{i=1}^{m} (h(x^{(i)}) - y^{(i)})^2 + \\frac{\\lambda}{2} ||w||^{2} $\n",
    "- What this does is that when there are irrelevant input features, it will make their weights small, but not 0"
   ]
  },
  {
   "cell_type": "markdown",
   "metadata": {},
   "source": [
    "# How to Detect Overfitting\n",
    "\n",
    "Plot training error (*training set*) and validation error(*test set*)"
   ]
  }
 ],
 "metadata": {
  "language_info": {
   "name": "python"
  }
 },
 "nbformat": 4,
 "nbformat_minor": 2
}

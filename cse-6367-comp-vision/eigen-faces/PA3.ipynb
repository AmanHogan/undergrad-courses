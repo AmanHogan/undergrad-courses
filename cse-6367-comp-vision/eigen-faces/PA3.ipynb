{
 "cells": [
  {
   "cell_type": "markdown",
   "id": "921c037f",
   "metadata": {},
   "source": [
    "# CSE 6367 Programming Assignment 3 (P3)"
   ]
  },
  {
   "cell_type": "markdown",
   "id": "ba12a848",
   "metadata": {},
   "source": [
    "### Task 1 (30 points)\n",
    "\n",
    "Implement Harris corner detector from scratch. Mark detected corners on original image. \n",
    "\n",
    "Your program is supposed to detect the corners in the middle part of the image and not the weak corners at the boundary of the image.\n",
    "\n",
    "Note: You shouldn't use cv2.cornerHarris() or any other library functions to detect the corners.\n",
    "\n",
    "<img src = Images/checkerboard.jpg>"
   ]
  },
  {
   "cell_type": "markdown",
   "id": "afc8928e",
   "metadata": {},
   "source": [
    "### Task 2 (30 points)\n",
    "\n",
    "Implement multiscale template matching that measures the SSD differences (perform both brightness and contrast normalization) between the template and each location of the image at multiple scales. Both image and template are grayscale images. \n",
    "\n",
    "For this task, consider a linear range of scales, np.arange( 0.5, 3, .25). \n",
    "\n",
    "Show your best match for each size(0.5, 0.75, 1 etc.) in a 2X5 plot. \n",
    "\n",
    "Template: <img src = Images/template.png>\n",
    "\n",
    "Test Image: <img src = Images/test_image.png style=\"width:537px; height:400px\">\n",
    "\n",
    "\n",
    "Note: \n",
    "1. You should implement template matching from scratch, and not use the opencv template matching.\n",
    "2. Only use \"bilinear interpolation\" when resizing."
   ]
  },
  {
   "cell_type": "markdown",
   "id": "9bc0196b",
   "metadata": {},
   "source": [
    "## Task 3: Eigenfaces (60 points)\n",
    "\n",
    "### Task 3A (15 points)\n",
    "1. Load all the 25 images in the \"/Eigenfaces/Train\"\n",
    "2. Display all the original faces in a 5X5 grid.\n",
    "3. Find the mean face image. Perform PCA on the training faces.\n",
    "4. Display the mean face.\n",
    "5. Diplay all the eigenfaces in a 5X5 grid.\n",
    "\n",
    "### Task 3B (15 points)\n",
    "\n",
    "1. Select k = 3 eigenfaces (eigenvectors that correspond to the largest eigenvalues).\n",
    "2. Reconstruct the training faces and display the reconstructed faces in a 5X5 grid.\n",
    "3. Repeat the process for k = 7 and k = 15. For each k, reconstruct the training faces and display the reconstructed image in a 5X5 grid.\n",
    "\n",
    "\n",
    "### Task 3C (15 points)\n",
    "1. Load all the test images from \"/Eigenfaces/Test\"\n",
    "2. Project each test image on the k = 3 eigenvectors and find if it's a face. If it's a face, find it's closest training image. Use euclidean distance to calculate distance.\n",
    "3. Display all the results in an M X 2 table, where M is total no of test images. Each row of the table displays two images. The image on the left is the test image. The image on the right is it's closest image in the eigenfaces space (Display the closest Training Image) . If an image is classified as a non-face, then the second column in the table should be blank (Just display a black image).\n",
    "4. Repeat the process and display the results for k = 7, k = 15.\n",
    "\n",
    "\n",
    "### Task 3D  (15 points)\n",
    "Plot the percent classification error rate as a function of Number of Eigenfaces (k). k should range from 1 to N (where N is the number of images in the training set). The steps are desribed below:\n",
    "\n",
    "1. Project k on Training images\n",
    "2. For each projection reconstruct the image\n",
    "3. Look for the closest image in the Training image based on the reconstructed image , and assign it a class label ( the class label is imagename[2:4] in a imagename.jpg for example here, S034_005_02293928.jpg the class label is 34)\n",
    "4. Count all the mismatches based on the ground truths (use the class label from the image name, and the one assigned previously based on the reconstructed image).\n",
    "5. For each k calculate error_rate = mismatches / len(train_images) "
   ]
  },
  {
   "cell_type": "markdown",
   "id": "3825743d",
   "metadata": {},
   "source": [
    "## Submission Guidelines:\n",
    "\n",
    "    Submit through Canvas your source code in a single .ipynb file. The name of the .ipynb file should be YourStudentID.ipynb. (For example: 1001234567.ipynb)\n",
    "    Import all the images from the ./Images directory. Your TA will use the same directory name to grade your submission.\n",
    "    You don't need to attach the image file with your submission.\n"
   ]
  }
 ],
 "metadata": {
  "kernelspec": {
   "display_name": "Python 3 (ipykernel)",
   "language": "python",
   "name": "python3"
  },
  "language_info": {
   "codemirror_mode": {
    "name": "ipython",
    "version": 3
   },
   "file_extension": ".py",
   "mimetype": "text/x-python",
   "name": "python",
   "nbconvert_exporter": "python",
   "pygments_lexer": "ipython3",
   "version": "3.9.13"
  }
 },
 "nbformat": 4,
 "nbformat_minor": 5
}
